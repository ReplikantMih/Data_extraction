{
 "cells": [
  {
   "cell_type": "markdown",
   "metadata": {},
   "source": [
    "### Task_1:"
   ]
  },
  {
   "cell_type": "code",
   "execution_count": null,
   "metadata": {},
   "outputs": [],
   "source": [
    "import requests\n",
    "import json"
   ]
  },
  {
   "cell_type": "code",
   "execution_count": 18,
   "metadata": {},
   "outputs": [
    {
     "data": {
      "text/plain": [
       "['ReplikantMih/code_example_robot',\n",
       " 'ReplikantMih/Mathematics',\n",
       " 'ReplikantMih/MySQL',\n",
       " 'ReplikantMih/Python_for_DS']"
      ]
     },
     "execution_count": 18,
     "metadata": {},
     "output_type": "execute_result"
    }
   ],
   "source": [
    "user = 'ReplikantMih'\n",
    "public_repos_text = requests.get(f'https://api.github.com/users/{user}/repos').text\n",
    "public_repos_list_fulldata = json.loads(public_repos_text)\n",
    "public_repos_list = [repo['full_name'] for repo in public_repos_list_fulldata]\n",
    "public_repos_list"
   ]
  },
  {
   "cell_type": "markdown",
   "metadata": {},
   "source": [
    "### Task_2:"
   ]
  },
  {
   "cell_type": "markdown",
   "metadata": {},
   "source": [
    "GitHub API v 3.0, доступ к приватным репозиториям."
   ]
  },
  {
   "cell_type": "code",
   "execution_count": 26,
   "metadata": {},
   "outputs": [
    {
     "name": "stdout",
     "output_type": "stream",
     "text": [
      "['ReplikantMih/Backtester', 'ReplikantMih/Base_socket_listener', 'ReplikantMih/DataScience_Trading', 'ReplikantMih/Local_app_for_server_api', 'ReplikantMih/Mfd_parser_new', 'ReplikantMih/mysql_db', 'ReplikantMih/mysql_test_2', 'ReplikantMih/mysql_test_3', 'ReplikantMih/Server_api', 'ReplikantMih/tinkoff', 'ReplikantMih/Tinkoff_', 'ReplikantMih/tinkoff_rep']\n"
     ]
    }
   ],
   "source": [
    "url = \"https://api.github.com\" + \"/user/repos\" + \"?\" + \"visibility=private\"\n",
    "token = \"\"  # Токен, scope которого покрывает запрашиваемый запрос.\n",
    "\n",
    "headers = { 'Authorization': f\"Bearer {token}\" }\n",
    "\n",
    "public_repos_text = requests.request(\"GET\", url, headers=headers).text\n",
    "public_repos_list_fulldata = json.loads(public_repos_text)\n",
    "public_repos_list = [repo['full_name'] for repo in public_repos_list_fulldata]\n",
    "public_repos_list\n",
    "\n",
    "print(public_repos_list)"
   ]
  }
 ],
 "metadata": {
  "kernelspec": {
   "display_name": "Python 3",
   "language": "python",
   "name": "python3"
  },
  "language_info": {
   "codemirror_mode": {
    "name": "ipython",
    "version": 3
   },
   "file_extension": ".py",
   "mimetype": "text/x-python",
   "name": "python",
   "nbconvert_exporter": "python",
   "pygments_lexer": "ipython3",
   "version": "3.7.3"
  }
 },
 "nbformat": 4,
 "nbformat_minor": 2
}

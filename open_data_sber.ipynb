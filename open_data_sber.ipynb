{
 "cells": [
  {
   "cell_type": "code",
   "execution_count": 1,
   "metadata": {},
   "outputs": [],
   "source": [
    "#!conda install ipywidgets"
   ]
  },
  {
   "cell_type": "code",
   "execution_count": 2,
   "metadata": {},
   "outputs": [],
   "source": [
    "import numpy as np\n",
    "import pandas as pd\n",
    "import matplotlib.pyplot as plt\n",
    "\n",
    "import requests\n",
    "import zipfile"
   ]
  },
  {
   "cell_type": "code",
   "execution_count": 3,
   "metadata": {},
   "outputs": [],
   "source": [
    "import ipywidgets as widgets\n",
    "from ipywidgets import interact, interact_manual"
   ]
  },
  {
   "cell_type": "code",
   "execution_count": 4,
   "metadata": {},
   "outputs": [],
   "source": [
    "from datetime import datetime"
   ]
  },
  {
   "cell_type": "code",
   "execution_count": 5,
   "metadata": {},
   "outputs": [
    {
     "name": "stderr",
     "output_type": "stream",
     "text": [
      "Enabling notebook extension jupyter-js-widgets/extension...\n",
      "      - Validating: ok\n"
     ]
    }
   ],
   "source": [
    "!jupyter nbextension enable --py widgetsnbextension"
   ]
  },
  {
   "cell_type": "code",
   "execution_count": null,
   "metadata": {},
   "outputs": [],
   "source": []
  },
  {
   "cell_type": "code",
   "execution_count": 6,
   "metadata": {},
   "outputs": [],
   "source": [
    "class DataSet:\n",
    "    def __init__(self):\n",
    "        self.df = self.get_dataframe()\n",
    "        self.features = self.df.columns\n",
    "        self.unique_values = self.get_unique_values()\n",
    "        \n",
    "    def get_dataframe(self):\n",
    "        data_url = 'http://sbrfdata.ru/opendata.zip'\n",
    "        zip_data = requests.get(data_url).content\n",
    "        with open('opendata.zip', 'wb') as file:\n",
    "            file.write(zip_data)\n",
    "        with zipfile.ZipFile('opendata.zip') as zip_file:\n",
    "            zip_file.extractall()\n",
    "        return pd.read_csv('opendata.csv', encoding='cp1251', sep=',', parse_dates=[2], \n",
    "                           date_parser=lambda date_string : self._date_from_string(date_string))\n",
    "    \n",
    "    def get_unique_values(self):\n",
    "        unique_values = {}\n",
    "        for feature in self.features:\n",
    "            unique_values[feature] = self.df[feature].unique()\n",
    "        return unique_values\n",
    "    def _date_from_string(self, date_string):\n",
    "        parsed = date_string.split('-')\n",
    "        parsed = [int(val) for val in parsed]\n",
    "        return pd.to_datetime(date_string)\n",
    "        return datetime(parsed[0], parsed[1], parsed[2])"
   ]
  },
  {
   "cell_type": "code",
   "execution_count": 7,
   "metadata": {},
   "outputs": [],
   "source": [
    "ds = DataSet()"
   ]
  },
  {
   "cell_type": "markdown",
   "metadata": {},
   "source": [
    "### Вывод данных в табличном виде (поддерживает фильтрацию и сортировку):"
   ]
  },
  {
   "cell_type": "code",
   "execution_count": 8,
   "metadata": {},
   "outputs": [
    {
     "data": {
      "application/vnd.jupyter.widget-view+json": {
       "model_id": "790d426337464bb5bb9ae1e589ebd1b9",
       "version_major": 2,
       "version_minor": 0
      },
      "text/plain": [
       "interactive(children=(Dropdown(description='param', options=('Количество заявок на потребительские кредиты', '…"
      ]
     },
     "metadata": {},
     "output_type": "display_data"
    }
   ],
   "source": [
    "@interact\n",
    "def show_filtered(param=ds.unique_values['name'],\n",
    "                  region=ds.unique_values['region'],\n",
    "                  date_from=widgets.DatePicker(value=pd.to_datetime('2015-01-01')),\n",
    "                  date_till=widgets.DatePicker(value=pd.to_datetime('2019-01-01')),\n",
    "                  show_values=(1, 19),\n",
    "                  sort_by=widgets.RadioButtons(options=['name', 'region', 'date', 'value'], value='value'),\n",
    "                  direction=widgets.RadioButtons(options=['^', 'v'])):\n",
    "    return ds.df[(ds.df['name'] == param) &\n",
    "                 (ds.df['region'] == region) &\n",
    "                 (ds.df['date'] < pd.to_datetime(date_till)) &\n",
    "                 (ds.df['date'] > pd.to_datetime(date_from))].sort_values(by=sort_by,\n",
    "                                                                          ascending= direction=='^').head(show_values)"
   ]
  },
  {
   "cell_type": "markdown",
   "metadata": {},
   "source": [
    "### Вывод данных в графическом виде (динамика показателей):"
   ]
  },
  {
   "cell_type": "code",
   "execution_count": 9,
   "metadata": {},
   "outputs": [
    {
     "data": {
      "application/vnd.jupyter.widget-view+json": {
       "model_id": "6471c2392bfa47f4b7761ca62f09e742",
       "version_major": 2,
       "version_minor": 0
      },
      "text/plain": [
       "interactive(children=(Dropdown(description='param', options=('Количество заявок на потребительские кредиты', '…"
      ]
     },
     "metadata": {},
     "output_type": "display_data"
    }
   ],
   "source": [
    "@interact\n",
    "def show_plot(param=ds.unique_values['name'],\n",
    "                  region=ds.unique_values['region'],\n",
    "                  date_from=widgets.DatePicker(value=pd.to_datetime('2015-01-01')),\n",
    "                  date_till=widgets.DatePicker(value=pd.to_datetime('2019-01-01'))):\n",
    "    df = ds.df[(ds.df['name'] == param) &\n",
    "                 (ds.df['region'] == region) &\n",
    "                 (ds.df['date'] < pd.to_datetime(date_till)) &\n",
    "                 (ds.df['date'] > pd.to_datetime(date_from))].sort_values(by='date')\n",
    "    plt.figure(figsize=(10, 5))\n",
    "    return plt.plot(df['date'],\n",
    "                 df['value'],\n",
    "                    color='green',\n",
    "                    linewidth=5)"
   ]
  }
 ],
 "metadata": {
  "kernelspec": {
   "display_name": "Python 3",
   "language": "python",
   "name": "python3"
  },
  "language_info": {
   "codemirror_mode": {
    "name": "ipython",
    "version": 3
   },
   "file_extension": ".py",
   "mimetype": "text/x-python",
   "name": "python",
   "nbconvert_exporter": "python",
   "pygments_lexer": "ipython3",
   "version": "3.7.3"
  }
 },
 "nbformat": 4,
 "nbformat_minor": 2
}
